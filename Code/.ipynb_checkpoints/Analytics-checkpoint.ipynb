{
 "cells": [
  {
   "cell_type": "code",
   "execution_count": 1,
   "metadata": {},
   "outputs": [],
   "source": [
    "import pandas as pd"
   ]
  },
  {
   "cell_type": "code",
   "execution_count": 2,
   "metadata": {},
   "outputs": [
    {
     "data": {
      "text/plain": [
       "O      887908\n",
       "geo     45058\n",
       "org     36927\n",
       "per     34241\n",
       "tim     26861\n",
       "gpe     16068\n",
       "art       699\n",
       "eve       561\n",
       "nat       252\n",
       "Name: Tag, dtype: int64"
      ]
     },
     "execution_count": 2,
     "metadata": {},
     "output_type": "execute_result"
    }
   ],
   "source": [
    "#Original Data analytics\n",
    "\n",
    "data = pd.read_csv(\"../Data/Original_Data/GMB_full.csv\",encoding='latin')\n",
    "\n",
    "data[\"Tag\"] = data[\"Tag\"].str.replace(\"B-\", \"\")\n",
    "data[\"Tag\"] = data[\"Tag\"].str.replace(\"I-\", \"\")\n",
    "\n",
    "data[\"Tag\"].value_counts()"
   ]
  },
  {
   "cell_type": "code",
   "execution_count": 3,
   "metadata": {},
   "outputs": [
    {
     "data": {
      "text/plain": [
       "O      710704\n",
       "geo     36098\n",
       "org     29375\n",
       "per     27590\n",
       "tim     21448\n",
       "gpe     12785\n",
       "art       574\n",
       "eve       471\n",
       "nat       192\n",
       "Name: Tag, dtype: int64"
      ]
     },
     "execution_count": 3,
     "metadata": {},
     "output_type": "execute_result"
    }
   ],
   "source": [
    "#Train Data analytics\n",
    "\n",
    "data = pd.read_csv(\"../Data/Original_Data/GMB_train.csv\",encoding='latin')\n",
    "\n",
    "data[\"Tag\"] = data[\"Tag\"].str.replace(\"B-\", \"\")\n",
    "data[\"Tag\"] = data[\"Tag\"].str.replace(\"I-\", \"\")\n",
    "\n",
    "data[\"Tag\"].value_counts()"
   ]
  },
  {
   "cell_type": "code",
   "execution_count": 4,
   "metadata": {},
   "outputs": [
    {
     "data": {
      "text/plain": [
       "o      820682\n",
       "geo     46600\n",
       "org     38103\n",
       "per     32972\n",
       "tim     26801\n",
       "gpe     17366\n",
       "art      1363\n",
       "eve       815\n",
       "nat       358\n",
       "Name: Tag, dtype: int64"
      ]
     },
     "execution_count": 4,
     "metadata": {},
     "output_type": "execute_result"
    }
   ],
   "source": [
    "#Augmented+Original Train Data analytics\n",
    "\n",
    "data = pd.read_csv(\"../Data/Augmented_Train_Data.csv\",encoding='latin')\n",
    "\n",
    "data[\"Tag\"] = data[\"Tag\"].str.replace(\"B-\", \"\")\n",
    "data[\"Tag\"] = data[\"Tag\"].str.replace(\"I-\", \"\")\n",
    "data[\"Tag\"] = data[\"Tag\"].str.replace(\"u-\", \"\")\n",
    "\n",
    "data[\"Tag\"].value_counts()"
   ]
  },
  {
   "cell_type": "code",
   "execution_count": 5,
   "metadata": {},
   "outputs": [
    {
     "data": {
      "text/plain": [
       "O      177204\n",
       "geo      8960\n",
       "org      7552\n",
       "per      6651\n",
       "tim      5413\n",
       "gpe      3283\n",
       "art       125\n",
       "eve        90\n",
       "nat        60\n",
       "Name: Tag, dtype: int64"
      ]
     },
     "execution_count": 5,
     "metadata": {},
     "output_type": "execute_result"
    }
   ],
   "source": [
    "#Test Data analytics\n",
    "\n",
    "data = pd.read_csv(\"../Data/Original_Data/GMB_test.csv\",encoding='latin')\n",
    "\n",
    "data[\"Tag\"] = data[\"Tag\"].str.replace(\"B-\", \"\")\n",
    "data[\"Tag\"] = data[\"Tag\"].str.replace(\"I-\", \"\")\n",
    "data[\"Tag\"] = data[\"Tag\"].str.replace(\"u-\", \"\")\n",
    "\n",
    "data[\"Tag\"].value_counts()"
   ]
  },
  {
   "cell_type": "code",
   "execution_count": 6,
   "metadata": {},
   "outputs": [
    {
     "name": "stderr",
     "output_type": "stream",
     "text": [
      "/usr/local/lib/python3.9/site-packages/IPython/core/interactiveshell.py:3146: DtypeWarning: Columns (3) have mixed types.Specify dtype option on import or set low_memory=False.\n",
      "  has_raised = await self.run_ast_nodes(code_ast.body, cell_name,\n"
     ]
    },
    {
     "data": {
      "text/plain": [
       "o      820682\n",
       "O      177204\n",
       "geo     55560\n",
       "org     45655\n",
       "per     39623\n",
       "tim     32214\n",
       "gpe     20649\n",
       "art      1488\n",
       "eve       905\n",
       "nat       418\n",
       "Name: Tag, dtype: int64"
      ]
     },
     "execution_count": 6,
     "metadata": {},
     "output_type": "execute_result"
    }
   ],
   "source": [
    "#Augmented+Original Full Data analytics\n",
    "\n",
    "data = pd.read_csv(\"../Data/Augmented_Full_Data.csv\",encoding='latin')\n",
    "\n",
    "data[\"Tag\"] = data[\"Tag\"].str.replace(\"B-\", \"\")\n",
    "data[\"Tag\"] = data[\"Tag\"].str.replace(\"I-\", \"\")\n",
    "data[\"Tag\"] = data[\"Tag\"].str.replace(\"u-\", \"\")\n",
    "\n",
    "data[\"Tag\"].value_counts()"
   ]
  },
  {
   "cell_type": "code",
   "execution_count": null,
   "metadata": {},
   "outputs": [],
   "source": []
  },
  {
   "cell_type": "code",
   "execution_count": null,
   "metadata": {},
   "outputs": [],
   "source": []
  }
 ],
 "metadata": {
  "kernelspec": {
   "display_name": "Python 3",
   "language": "python",
   "name": "python3"
  },
  "language_info": {
   "codemirror_mode": {
    "name": "ipython",
    "version": 3
   },
   "file_extension": ".py",
   "mimetype": "text/x-python",
   "name": "python",
   "nbconvert_exporter": "python",
   "pygments_lexer": "ipython3",
   "version": "3.9.6"
  }
 },
 "nbformat": 4,
 "nbformat_minor": 4
}
